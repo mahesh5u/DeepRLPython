{
 "cells": [
  {
   "cell_type": "code",
   "execution_count": 1,
   "metadata": {},
   "outputs": [],
   "source": [
    "import gym\n",
    "import pandas as pd\n",
    "from collections import defaultdict"
   ]
  },
  {
   "cell_type": "code",
   "execution_count": 2,
   "metadata": {},
   "outputs": [],
   "source": [
    "env=gym.make(\"Blackjack-v0\")"
   ]
  },
  {
   "cell_type": "code",
   "execution_count": 3,
   "metadata": {},
   "outputs": [],
   "source": [
    "def policy(state):\n",
    "    return 0 if state[0]>19 else 1"
   ]
  },
  {
   "cell_type": "code",
   "execution_count": 4,
   "metadata": {},
   "outputs": [],
   "source": [
    "state=env.reset()"
   ]
  },
  {
   "cell_type": "code",
   "execution_count": 5,
   "metadata": {},
   "outputs": [
    {
     "data": {
      "text/plain": [
       "1"
      ]
     },
     "execution_count": 5,
     "metadata": {},
     "output_type": "execute_result"
    }
   ],
   "source": [
    "policy(state)"
   ]
  },
  {
   "cell_type": "code",
   "execution_count": 6,
   "metadata": {},
   "outputs": [
    {
     "data": {
      "text/plain": [
       "((24, 5, False), -1.0, True, {})"
      ]
     },
     "execution_count": 6,
     "metadata": {},
     "output_type": "execute_result"
    }
   ],
   "source": [
    "env.step(1)"
   ]
  },
  {
   "cell_type": "code",
   "execution_count": 7,
   "metadata": {},
   "outputs": [],
   "source": [
    "num_timesteps=100\n",
    "def generate_episode(policy):\n",
    "    episode=[]\n",
    "    state=env.reset()\n",
    "    \n",
    "    for t in range(num_timesteps):\n",
    "        action=policy(state)\n",
    "        next_state,reward,done,info =env.step(action)\n",
    "        episode.append((state,action,reward))\n",
    "        \n",
    "        if done:\n",
    "            break\n",
    "        state=next_state\n",
    "        \n",
    "    return episode          "
   ]
  },
  {
   "cell_type": "code",
   "execution_count": 8,
   "metadata": {},
   "outputs": [
    {
     "name": "stdout",
     "output_type": "stream",
     "text": [
      "[((16, 10, False), 1, -1.0)]\n"
     ]
    }
   ],
   "source": [
    "print(generate_episode(policy))"
   ]
  },
  {
   "cell_type": "code",
   "execution_count": 9,
   "metadata": {},
   "outputs": [
    {
     "data": {
      "text/html": [
       "<div>\n",
       "<style scoped>\n",
       "    .dataframe tbody tr th:only-of-type {\n",
       "        vertical-align: middle;\n",
       "    }\n",
       "\n",
       "    .dataframe tbody tr th {\n",
       "        vertical-align: top;\n",
       "    }\n",
       "\n",
       "    .dataframe thead th {\n",
       "        text-align: right;\n",
       "    }\n",
       "</style>\n",
       "<table border=\"1\" class=\"dataframe\">\n",
       "  <thead>\n",
       "    <tr style=\"text-align: right;\">\n",
       "      <th></th>\n",
       "      <th>State</th>\n",
       "      <th>total_return</th>\n",
       "      <th>N</th>\n",
       "    </tr>\n",
       "  </thead>\n",
       "  <tbody>\n",
       "    <tr>\n",
       "      <th>0</th>\n",
       "      <td>(17, 4, False)</td>\n",
       "      <td>-376.0</td>\n",
       "      <td>518</td>\n",
       "    </tr>\n",
       "    <tr>\n",
       "      <th>1</th>\n",
       "      <td>(20, 4, False)</td>\n",
       "      <td>523.0</td>\n",
       "      <td>756</td>\n",
       "    </tr>\n",
       "    <tr>\n",
       "      <th>2</th>\n",
       "      <td>(8, 8, False)</td>\n",
       "      <td>-67.0</td>\n",
       "      <td>128</td>\n",
       "    </tr>\n",
       "    <tr>\n",
       "      <th>3</th>\n",
       "      <td>(10, 8, False)</td>\n",
       "      <td>26.0</td>\n",
       "      <td>197</td>\n",
       "    </tr>\n",
       "    <tr>\n",
       "      <th>4</th>\n",
       "      <td>(20, 8, False)</td>\n",
       "      <td>598.0</td>\n",
       "      <td>747</td>\n",
       "    </tr>\n",
       "    <tr>\n",
       "      <th>5</th>\n",
       "      <td>(13, 10, False)</td>\n",
       "      <td>-1144.0</td>\n",
       "      <td>1848</td>\n",
       "    </tr>\n",
       "    <tr>\n",
       "      <th>6</th>\n",
       "      <td>(16, 10, False)</td>\n",
       "      <td>-1368.0</td>\n",
       "      <td>2000</td>\n",
       "    </tr>\n",
       "    <tr>\n",
       "      <th>7</th>\n",
       "      <td>(16, 6, False)</td>\n",
       "      <td>-352.0</td>\n",
       "      <td>512</td>\n",
       "    </tr>\n",
       "    <tr>\n",
       "      <th>8</th>\n",
       "      <td>(15, 1, False)</td>\n",
       "      <td>-352.0</td>\n",
       "      <td>506</td>\n",
       "    </tr>\n",
       "    <tr>\n",
       "      <th>9</th>\n",
       "      <td>(19, 1, False)</td>\n",
       "      <td>-483.0</td>\n",
       "      <td>584</td>\n",
       "    </tr>\n",
       "  </tbody>\n",
       "</table>\n",
       "</div>"
      ],
      "text/plain": [
       "             State  total_return     N\n",
       "0   (17, 4, False)        -376.0   518\n",
       "1   (20, 4, False)         523.0   756\n",
       "2    (8, 8, False)         -67.0   128\n",
       "3   (10, 8, False)          26.0   197\n",
       "4   (20, 8, False)         598.0   747\n",
       "5  (13, 10, False)       -1144.0  1848\n",
       "6  (16, 10, False)       -1368.0  2000\n",
       "7   (16, 6, False)        -352.0   512\n",
       "8   (15, 1, False)        -352.0   506\n",
       "9   (19, 1, False)        -483.0   584"
      ]
     },
     "execution_count": 9,
     "metadata": {},
     "output_type": "execute_result"
    }
   ],
   "source": [
    "num_iterations=50000\n",
    "total_return=defaultdict(float)\n",
    "N=defaultdict(int)\n",
    "\n",
    "for i in range(num_iterations):\n",
    "    episode=generate_episode(policy)\n",
    "    states,actions,rewards=zip(*episode)\n",
    "\n",
    "    for t,state in enumerate(states):\n",
    "        if state not in states[0:t]:\n",
    "            R=(sum(rewards[t:]))\n",
    "            total_return[state]=total_return[state]+R\n",
    "            N[state]=N[state]+1\n",
    "        \n",
    "total_return=pd.DataFrame(total_return.items(),columns=['State','total_return'])\n",
    "N=pd.DataFrame(N.items(),columns=['State','N'])\n",
    "df=pd.merge(total_return,N,on=\"State\")\n",
    "df.head(10)        "
   ]
  },
  {
   "cell_type": "code",
   "execution_count": 10,
   "metadata": {},
   "outputs": [],
   "source": [
    "df['value']=df['total_return']/df['N']"
   ]
  },
  {
   "cell_type": "code",
   "execution_count": 11,
   "metadata": {},
   "outputs": [
    {
     "data": {
      "text/html": [
       "<div>\n",
       "<style scoped>\n",
       "    .dataframe tbody tr th:only-of-type {\n",
       "        vertical-align: middle;\n",
       "    }\n",
       "\n",
       "    .dataframe tbody tr th {\n",
       "        vertical-align: top;\n",
       "    }\n",
       "\n",
       "    .dataframe thead th {\n",
       "        text-align: right;\n",
       "    }\n",
       "</style>\n",
       "<table border=\"1\" class=\"dataframe\">\n",
       "  <thead>\n",
       "    <tr style=\"text-align: right;\">\n",
       "      <th></th>\n",
       "      <th>State</th>\n",
       "      <th>total_return</th>\n",
       "      <th>N</th>\n",
       "      <th>value</th>\n",
       "    </tr>\n",
       "  </thead>\n",
       "  <tbody>\n",
       "    <tr>\n",
       "      <th>0</th>\n",
       "      <td>(17, 4, False)</td>\n",
       "      <td>-376.0</td>\n",
       "      <td>518</td>\n",
       "      <td>-0.725869</td>\n",
       "    </tr>\n",
       "    <tr>\n",
       "      <th>1</th>\n",
       "      <td>(20, 4, False)</td>\n",
       "      <td>523.0</td>\n",
       "      <td>756</td>\n",
       "      <td>0.691799</td>\n",
       "    </tr>\n",
       "    <tr>\n",
       "      <th>2</th>\n",
       "      <td>(8, 8, False)</td>\n",
       "      <td>-67.0</td>\n",
       "      <td>128</td>\n",
       "      <td>-0.523438</td>\n",
       "    </tr>\n",
       "    <tr>\n",
       "      <th>3</th>\n",
       "      <td>(10, 8, False)</td>\n",
       "      <td>26.0</td>\n",
       "      <td>197</td>\n",
       "      <td>0.131980</td>\n",
       "    </tr>\n",
       "    <tr>\n",
       "      <th>4</th>\n",
       "      <td>(20, 8, False)</td>\n",
       "      <td>598.0</td>\n",
       "      <td>747</td>\n",
       "      <td>0.800535</td>\n",
       "    </tr>\n",
       "    <tr>\n",
       "      <th>5</th>\n",
       "      <td>(13, 10, False)</td>\n",
       "      <td>-1144.0</td>\n",
       "      <td>1848</td>\n",
       "      <td>-0.619048</td>\n",
       "    </tr>\n",
       "    <tr>\n",
       "      <th>6</th>\n",
       "      <td>(16, 10, False)</td>\n",
       "      <td>-1368.0</td>\n",
       "      <td>2000</td>\n",
       "      <td>-0.684000</td>\n",
       "    </tr>\n",
       "    <tr>\n",
       "      <th>7</th>\n",
       "      <td>(16, 6, False)</td>\n",
       "      <td>-352.0</td>\n",
       "      <td>512</td>\n",
       "      <td>-0.687500</td>\n",
       "    </tr>\n",
       "    <tr>\n",
       "      <th>8</th>\n",
       "      <td>(15, 1, False)</td>\n",
       "      <td>-352.0</td>\n",
       "      <td>506</td>\n",
       "      <td>-0.695652</td>\n",
       "    </tr>\n",
       "    <tr>\n",
       "      <th>9</th>\n",
       "      <td>(19, 1, False)</td>\n",
       "      <td>-483.0</td>\n",
       "      <td>584</td>\n",
       "      <td>-0.827055</td>\n",
       "    </tr>\n",
       "  </tbody>\n",
       "</table>\n",
       "</div>"
      ],
      "text/plain": [
       "             State  total_return     N     value\n",
       "0   (17, 4, False)        -376.0   518 -0.725869\n",
       "1   (20, 4, False)         523.0   756  0.691799\n",
       "2    (8, 8, False)         -67.0   128 -0.523438\n",
       "3   (10, 8, False)          26.0   197  0.131980\n",
       "4   (20, 8, False)         598.0   747  0.800535\n",
       "5  (13, 10, False)       -1144.0  1848 -0.619048\n",
       "6  (16, 10, False)       -1368.0  2000 -0.684000\n",
       "7   (16, 6, False)        -352.0   512 -0.687500\n",
       "8   (15, 1, False)        -352.0   506 -0.695652\n",
       "9   (19, 1, False)        -483.0   584 -0.827055"
      ]
     },
     "execution_count": 11,
     "metadata": {},
     "output_type": "execute_result"
    }
   ],
   "source": [
    "df.head(10)"
   ]
  },
  {
   "cell_type": "code",
   "execution_count": 12,
   "metadata": {},
   "outputs": [
    {
     "data": {
      "text/plain": [
       "array([0.94344473])"
      ]
     },
     "execution_count": 12,
     "metadata": {},
     "output_type": "execute_result"
    }
   ],
   "source": [
    "df[df['State']==(21,9,False)]['value'].values"
   ]
  },
  {
   "cell_type": "code",
   "execution_count": 13,
   "metadata": {},
   "outputs": [
    {
     "data": {
      "text/plain": [
       "array([-0.28888889])"
      ]
     },
     "execution_count": 13,
     "metadata": {},
     "output_type": "execute_result"
    }
   ],
   "source": [
    "df[df['State']==(5,8,False)]['value'].values"
   ]
  },
  {
   "cell_type": "code",
   "execution_count": 26,
   "metadata": {},
   "outputs": [
    {
     "data": {
      "text/plain": [
       "'\\n\\n#Calculation using Incremental Mean Need to understand more\\nnum_iterations=50000\\ntotal_return=defaultdict(float)\\nN=defaultdict(int)\\nvalue_state=[]\\n\\nfor i in range(num_iterations):\\n    episode=generate_episode(policy)\\n    states,actions,rewards=zip(*episode)\\n\\n    for t,state in enumerate(states):\\n        if state not in states[0:t]:\\n            R=(sum(rewards[t:]))\\n            total_return[state]=total_return[state]+R\\n            N[state]=N[state]+1\\n            value_state[state]=total_return[state][0]+(1/(N[state])*(R-total_return[state][0]))   \\n            '"
      ]
     },
     "execution_count": 26,
     "metadata": {},
     "output_type": "execute_result"
    }
   ],
   "source": [
    "'''\n",
    "\n",
    "#Calculation using Incremental Mean Need to understand more\n",
    "num_iterations=50000\n",
    "total_return=defaultdict(float)\n",
    "N=defaultdict(int)\n",
    "value_state=[]\n",
    "\n",
    "for i in range(num_iterations):\n",
    "    episode=generate_episode(policy)\n",
    "    states,actions,rewards=zip(*episode)\n",
    "\n",
    "    for t,state in enumerate(states):\n",
    "        if state not in states[0:t]:\n",
    "            R=(sum(rewards[t:]))\n",
    "            total_return[state]=total_return[state]+R\n",
    "            N[state]=N[state]+1\n",
    "            value_state[state]=total_return[state][0]+(1/(N[state])*(R-total_return[state][0]))   \n",
    "'''"
   ]
  }
 ],
 "metadata": {
  "kernelspec": {
   "display_name": "Python 3",
   "language": "python",
   "name": "python3"
  },
  "language_info": {
   "codemirror_mode": {
    "name": "ipython",
    "version": 3
   },
   "file_extension": ".py",
   "mimetype": "text/x-python",
   "name": "python",
   "nbconvert_exporter": "python",
   "pygments_lexer": "ipython3",
   "version": "3.7.10"
  }
 },
 "nbformat": 4,
 "nbformat_minor": 4
}
