{
 "cells": [
  {
   "cell_type": "code",
   "execution_count": 1,
   "metadata": {},
   "outputs": [],
   "source": [
    "import gym\n",
    "import numpy as np\n",
    "import pandas as pd\n",
    "import random\n",
    "from collections import defaultdict"
   ]
  },
  {
   "cell_type": "code",
   "execution_count": 2,
   "metadata": {},
   "outputs": [],
   "source": [
    "env=gym.make(\"Blackjack-v0\")"
   ]
  },
  {
   "cell_type": "code",
   "execution_count": 3,
   "metadata": {},
   "outputs": [],
   "source": [
    "Q=defaultdict(float)"
   ]
  },
  {
   "cell_type": "code",
   "execution_count": 4,
   "metadata": {},
   "outputs": [],
   "source": [
    "total_return=defaultdict(float)"
   ]
  },
  {
   "cell_type": "code",
   "execution_count": 5,
   "metadata": {},
   "outputs": [],
   "source": [
    "N=defaultdict(int)"
   ]
  },
  {
   "cell_type": "code",
   "execution_count": 6,
   "metadata": {},
   "outputs": [],
   "source": [
    "def epsioln_greedy_policy(state,Q):\n",
    "#Sample a random value from the uniform distribution; \n",
    "#if the sampled value is less than epsilon then we select a random action, \n",
    "#else we select the best action that has the maximum Q value as shown. \n",
    "    epsilon=0.5\n",
    "    if random.uniform(0,1)<epsilon:\n",
    "        return env.action_space.sample()\n",
    "    else:\n",
    "        return max(list(range(env.action_space.n)),key=lambda x : Q[(state,x)])"
   ]
  },
  {
   "cell_type": "code",
   "execution_count": 7,
   "metadata": {},
   "outputs": [],
   "source": [
    "num_timesteps=100"
   ]
  },
  {
   "cell_type": "code",
   "execution_count": 8,
   "metadata": {},
   "outputs": [],
   "source": [
    "#Generate Episode\n",
    "def generate_episode(Q):\n",
    "    episode=[]\n",
    "    state=env.reset()\n",
    "    for t in range(num_timesteps):\n",
    "        action=epsioln_greedy_policy(state,Q)\n",
    "        next_state,reward,done,info= env.step(action)\n",
    "        episode.append((state,action,reward))\n",
    "        if done:\n",
    "            break\n",
    "        else:\n",
    "            state=next_state\n",
    "    return episode        "
   ]
  },
  {
   "cell_type": "code",
   "execution_count": 12,
   "metadata": {},
   "outputs": [],
   "source": [
    "#Computing Optimal Policy\n",
    "num_iterations=50000\n",
    "for i in range(num_iterations):\n",
    "    episode=generate_episode(Q)\n",
    "    all_state_action_pairs=[(s,a) for (s,a,r) in episode]\n",
    "    rewards=[r for (s,a,r) in episode]\n",
    "    \n",
    "    for t,(state,action,_) in enumerate (episode):\n",
    "        if not (state,action) in all_state_action_pairs[0:t]:\n",
    "            R=sum(rewards[t:])\n",
    "            total_return[(state,action)]=total_return[(state,action)]+R\n",
    "            N[(state,action)]+=1\n",
    "            Q[(state,action)]=total_return[(state,action)]/N[(state,action)]\n",
    "            \n",
    "df=pd.DataFrame(Q.items(),columns=['state_action_pair','value'])"
   ]
  },
  {
   "cell_type": "code",
   "execution_count": 13,
   "metadata": {},
   "outputs": [
    {
     "data": {
      "text/html": [
       "<div>\n",
       "<style scoped>\n",
       "    .dataframe tbody tr th:only-of-type {\n",
       "        vertical-align: middle;\n",
       "    }\n",
       "\n",
       "    .dataframe tbody tr th {\n",
       "        vertical-align: top;\n",
       "    }\n",
       "\n",
       "    .dataframe thead th {\n",
       "        text-align: right;\n",
       "    }\n",
       "</style>\n",
       "<table border=\"1\" class=\"dataframe\">\n",
       "  <thead>\n",
       "    <tr style=\"text-align: right;\">\n",
       "      <th></th>\n",
       "      <th>state_action_pair</th>\n",
       "      <th>value</th>\n",
       "    </tr>\n",
       "  </thead>\n",
       "  <tbody>\n",
       "    <tr>\n",
       "      <th>0</th>\n",
       "      <td>((21, 10, True), 0)</td>\n",
       "      <td>0.893487</td>\n",
       "    </tr>\n",
       "    <tr>\n",
       "      <th>1</th>\n",
       "      <td>((21, 10, True), 1)</td>\n",
       "      <td>-0.260563</td>\n",
       "    </tr>\n",
       "    <tr>\n",
       "      <th>2</th>\n",
       "      <td>((11, 7, False), 0)</td>\n",
       "      <td>-0.709091</td>\n",
       "    </tr>\n",
       "    <tr>\n",
       "      <th>3</th>\n",
       "      <td>((11, 7, False), 1)</td>\n",
       "      <td>0.041420</td>\n",
       "    </tr>\n",
       "    <tr>\n",
       "      <th>4</th>\n",
       "      <td>((14, 9, False), 0)</td>\n",
       "      <td>-0.523810</td>\n",
       "    </tr>\n",
       "    <tr>\n",
       "      <th>5</th>\n",
       "      <td>((14, 9, False), 1)</td>\n",
       "      <td>-0.459044</td>\n",
       "    </tr>\n",
       "    <tr>\n",
       "      <th>6</th>\n",
       "      <td>((15, 10, False), 0)</td>\n",
       "      <td>-0.585131</td>\n",
       "    </tr>\n",
       "    <tr>\n",
       "      <th>7</th>\n",
       "      <td>((15, 10, False), 1)</td>\n",
       "      <td>-0.671908</td>\n",
       "    </tr>\n",
       "    <tr>\n",
       "      <th>8</th>\n",
       "      <td>((11, 1, False), 0)</td>\n",
       "      <td>-0.838384</td>\n",
       "    </tr>\n",
       "    <tr>\n",
       "      <th>9</th>\n",
       "      <td>((11, 1, False), 1)</td>\n",
       "      <td>-0.337793</td>\n",
       "    </tr>\n",
       "  </tbody>\n",
       "</table>\n",
       "</div>"
      ],
      "text/plain": [
       "      state_action_pair     value\n",
       "0   ((21, 10, True), 0)  0.893487\n",
       "1   ((21, 10, True), 1) -0.260563\n",
       "2   ((11, 7, False), 0) -0.709091\n",
       "3   ((11, 7, False), 1)  0.041420\n",
       "4   ((14, 9, False), 0) -0.523810\n",
       "5   ((14, 9, False), 1) -0.459044\n",
       "6  ((15, 10, False), 0) -0.585131\n",
       "7  ((15, 10, False), 1) -0.671908\n",
       "8   ((11, 1, False), 0) -0.838384\n",
       "9   ((11, 1, False), 1) -0.337793"
      ]
     },
     "execution_count": 13,
     "metadata": {},
     "output_type": "execute_result"
    }
   ],
   "source": [
    "df.head(10)"
   ]
  },
  {
   "cell_type": "code",
   "execution_count": 11,
   "metadata": {},
   "outputs": [
    {
     "data": {
      "text/html": [
       "<div>\n",
       "<style scoped>\n",
       "    .dataframe tbody tr th:only-of-type {\n",
       "        vertical-align: middle;\n",
       "    }\n",
       "\n",
       "    .dataframe tbody tr th {\n",
       "        vertical-align: top;\n",
       "    }\n",
       "\n",
       "    .dataframe thead th {\n",
       "        text-align: right;\n",
       "    }\n",
       "</style>\n",
       "<table border=\"1\" class=\"dataframe\">\n",
       "  <thead>\n",
       "    <tr style=\"text-align: right;\">\n",
       "      <th></th>\n",
       "      <th>state_action_pair</th>\n",
       "      <th>value</th>\n",
       "    </tr>\n",
       "  </thead>\n",
       "  <tbody>\n",
       "    <tr>\n",
       "      <th>0</th>\n",
       "      <td>((21, 10, True), 0)</td>\n",
       "      <td>0.884323</td>\n",
       "    </tr>\n",
       "    <tr>\n",
       "      <th>1</th>\n",
       "      <td>((21, 10, True), 1)</td>\n",
       "      <td>-0.251232</td>\n",
       "    </tr>\n",
       "    <tr>\n",
       "      <th>2</th>\n",
       "      <td>((11, 7, False), 0)</td>\n",
       "      <td>-0.708333</td>\n",
       "    </tr>\n",
       "    <tr>\n",
       "      <th>3</th>\n",
       "      <td>((11, 7, False), 1)</td>\n",
       "      <td>-0.024390</td>\n",
       "    </tr>\n",
       "    <tr>\n",
       "      <th>4</th>\n",
       "      <td>((14, 9, False), 0)</td>\n",
       "      <td>-0.542857</td>\n",
       "    </tr>\n",
       "    <tr>\n",
       "      <th>...</th>\n",
       "      <td>...</td>\n",
       "      <td>...</td>\n",
       "    </tr>\n",
       "    <tr>\n",
       "      <th>555</th>\n",
       "      <td>((15, 7, True), 1)</td>\n",
       "      <td>-0.583333</td>\n",
       "    </tr>\n",
       "    <tr>\n",
       "      <th>556</th>\n",
       "      <td>((4, 3, False), 1)</td>\n",
       "      <td>-0.333333</td>\n",
       "    </tr>\n",
       "    <tr>\n",
       "      <th>557</th>\n",
       "      <td>((4, 6, False), 1)</td>\n",
       "      <td>-0.333333</td>\n",
       "    </tr>\n",
       "    <tr>\n",
       "      <th>558</th>\n",
       "      <td>((4, 3, False), 0)</td>\n",
       "      <td>-0.058824</td>\n",
       "    </tr>\n",
       "    <tr>\n",
       "      <th>559</th>\n",
       "      <td>((4, 8, False), 1)</td>\n",
       "      <td>-0.400000</td>\n",
       "    </tr>\n",
       "  </tbody>\n",
       "</table>\n",
       "<p>560 rows × 2 columns</p>\n",
       "</div>"
      ],
      "text/plain": [
       "       state_action_pair     value\n",
       "0    ((21, 10, True), 0)  0.884323\n",
       "1    ((21, 10, True), 1) -0.251232\n",
       "2    ((11, 7, False), 0) -0.708333\n",
       "3    ((11, 7, False), 1) -0.024390\n",
       "4    ((14, 9, False), 0) -0.542857\n",
       "..                   ...       ...\n",
       "555   ((15, 7, True), 1) -0.583333\n",
       "556   ((4, 3, False), 1) -0.333333\n",
       "557   ((4, 6, False), 1) -0.333333\n",
       "558   ((4, 3, False), 0) -0.058824\n",
       "559   ((4, 8, False), 1) -0.400000\n",
       "\n",
       "[560 rows x 2 columns]"
      ]
     },
     "execution_count": 11,
     "metadata": {},
     "output_type": "execute_result"
    }
   ],
   "source": [
    "df"
   ]
  },
  {
   "cell_type": "code",
   "execution_count": 14,
   "metadata": {},
   "outputs": [
    {
     "data": {
      "text/html": [
       "<div>\n",
       "<style scoped>\n",
       "    .dataframe tbody tr th:only-of-type {\n",
       "        vertical-align: middle;\n",
       "    }\n",
       "\n",
       "    .dataframe tbody tr th {\n",
       "        vertical-align: top;\n",
       "    }\n",
       "\n",
       "    .dataframe thead th {\n",
       "        text-align: right;\n",
       "    }\n",
       "</style>\n",
       "<table border=\"1\" class=\"dataframe\">\n",
       "  <thead>\n",
       "    <tr style=\"text-align: right;\">\n",
       "      <th></th>\n",
       "      <th>state_action_pair</th>\n",
       "      <th>value</th>\n",
       "    </tr>\n",
       "  </thead>\n",
       "  <tbody>\n",
       "    <tr>\n",
       "      <th>124</th>\n",
       "      <td>((14, 7, False), 1)</td>\n",
       "      <td>-0.545894</td>\n",
       "    </tr>\n",
       "    <tr>\n",
       "      <th>125</th>\n",
       "      <td>((21, 4, True), 0)</td>\n",
       "      <td>0.865443</td>\n",
       "    </tr>\n",
       "  </tbody>\n",
       "</table>\n",
       "</div>"
      ],
      "text/plain": [
       "       state_action_pair     value\n",
       "124  ((14, 7, False), 1) -0.545894\n",
       "125   ((21, 4, True), 0)  0.865443"
      ]
     },
     "execution_count": 14,
     "metadata": {},
     "output_type": "execute_result"
    }
   ],
   "source": [
    "df[124:126]"
   ]
  },
  {
   "cell_type": "code",
   "execution_count": 20,
   "metadata": {},
   "outputs": [
    {
     "data": {
      "text/plain": [
       "0"
      ]
     },
     "execution_count": 20,
     "metadata": {},
     "output_type": "execute_result"
    }
   ],
   "source": [
    "np.argmax(df[0:1]['value'])"
   ]
  },
  {
   "cell_type": "code",
   "execution_count": null,
   "metadata": {},
   "outputs": [],
   "source": []
  }
 ],
 "metadata": {
  "kernelspec": {
   "display_name": "Python 3",
   "language": "python",
   "name": "python3"
  },
  "language_info": {
   "codemirror_mode": {
    "name": "ipython",
    "version": 3
   },
   "file_extension": ".py",
   "mimetype": "text/x-python",
   "name": "python",
   "nbconvert_exporter": "python",
   "pygments_lexer": "ipython3",
   "version": "3.7.10"
  }
 },
 "nbformat": 4,
 "nbformat_minor": 4
}
