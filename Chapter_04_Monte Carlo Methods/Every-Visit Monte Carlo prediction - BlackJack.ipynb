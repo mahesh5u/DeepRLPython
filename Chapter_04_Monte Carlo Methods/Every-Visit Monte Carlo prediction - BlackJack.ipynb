{
 "cells": [
  {
   "cell_type": "code",
   "execution_count": 1,
   "metadata": {},
   "outputs": [],
   "source": [
    "import gym"
   ]
  },
  {
   "cell_type": "code",
   "execution_count": 2,
   "metadata": {},
   "outputs": [],
   "source": [
    "env=gym.make(\"Blackjack-v0\")"
   ]
  },
  {
   "cell_type": "code",
   "execution_count": 3,
   "metadata": {},
   "outputs": [
    {
     "name": "stdout",
     "output_type": "stream",
     "text": [
      "(16, 2, False)\n"
     ]
    }
   ],
   "source": [
    "print(env.reset())"
   ]
  },
  {
   "cell_type": "code",
   "execution_count": 5,
   "metadata": {},
   "outputs": [],
   "source": [
    "#State\n",
    "#1.The value of the sum of our cards\n",
    "#2. The face value of one of the dealer's card\n",
    "#3. Boolean value—True if we have a useable ace and False if we don't have a\n",
    "#useable ace"
   ]
  },
  {
   "cell_type": "code",
   "execution_count": 4,
   "metadata": {},
   "outputs": [
    {
     "name": "stdout",
     "output_type": "stream",
     "text": [
      "Discrete(2)\n"
     ]
    }
   ],
   "source": [
    "print(env.action_space)"
   ]
  },
  {
   "cell_type": "code",
   "execution_count": 6,
   "metadata": {},
   "outputs": [],
   "source": [
    "#Action\n",
    "# The action stand is represented by 0\n",
    "# The action hit is represented by 1"
   ]
  },
  {
   "cell_type": "code",
   "execution_count": 7,
   "metadata": {},
   "outputs": [],
   "source": [
    "#Reward\n",
    "# +1.0 reward if we win the game\n",
    "# -1.0 reward if we lose the game\n",
    "# 0 reward if the game is a draw"
   ]
  },
  {
   "cell_type": "code",
   "execution_count": 8,
   "metadata": {},
   "outputs": [],
   "source": [
    "import pandas as pd\n",
    "from collections import defaultdict"
   ]
  },
  {
   "cell_type": "code",
   "execution_count": 9,
   "metadata": {},
   "outputs": [],
   "source": [
    "#Policy: the state[0], the sum of our cards, value, is greater than 19, then it will return action 0\n",
    "#(stand), else it will return action 1 (hit).\n",
    "\n",
    "def policy(state):\n",
    "    return 0 if state[0]>19 else 1"
   ]
  },
  {
   "cell_type": "code",
   "execution_count": 10,
   "metadata": {},
   "outputs": [],
   "source": [
    "state=env.reset()"
   ]
  },
  {
   "cell_type": "code",
   "execution_count": 11,
   "metadata": {},
   "outputs": [
    {
     "data": {
      "text/plain": [
       "(13, 4, False)"
      ]
     },
     "execution_count": 11,
     "metadata": {},
     "output_type": "execute_result"
    }
   ],
   "source": [
    "state"
   ]
  },
  {
   "cell_type": "code",
   "execution_count": 12,
   "metadata": {},
   "outputs": [
    {
     "data": {
      "text/plain": [
       "1"
      ]
     },
     "execution_count": 12,
     "metadata": {},
     "output_type": "execute_result"
    }
   ],
   "source": [
    "policy(state)"
   ]
  },
  {
   "cell_type": "code",
   "execution_count": 14,
   "metadata": {},
   "outputs": [],
   "source": [
    "num_timesteps=100\n",
    "def generate_episode(policy):\n",
    "    episode=[]\n",
    "    state=env.reset()\n",
    "    \n",
    "    for t in range(num_timesteps):\n",
    "        action=policy(state)\n",
    "        next_state,reward,done,info=env.step(action)\n",
    "        episode.append((state,action,reward))\n",
    "        \n",
    "        if done:\n",
    "            break\n",
    "        state=next_state\n",
    "        \n",
    "    return episode    "
   ]
  },
  {
   "cell_type": "code",
   "execution_count": 22,
   "metadata": {},
   "outputs": [
    {
     "name": "stdout",
     "output_type": "stream",
     "text": [
      "[((5, 8, False), 1, 0.0), ((10, 8, False), 1, 0.0), ((17, 8, False), 1, -1.0)]\n"
     ]
    }
   ],
   "source": [
    "print(generate_episode(policy))"
   ]
  },
  {
   "cell_type": "code",
   "execution_count": 24,
   "metadata": {},
   "outputs": [
    {
     "data": {
      "text/html": [
       "<div>\n",
       "<style scoped>\n",
       "    .dataframe tbody tr th:only-of-type {\n",
       "        vertical-align: middle;\n",
       "    }\n",
       "\n",
       "    .dataframe tbody tr th {\n",
       "        vertical-align: top;\n",
       "    }\n",
       "\n",
       "    .dataframe thead th {\n",
       "        text-align: right;\n",
       "    }\n",
       "</style>\n",
       "<table border=\"1\" class=\"dataframe\">\n",
       "  <thead>\n",
       "    <tr style=\"text-align: right;\">\n",
       "      <th></th>\n",
       "      <th>State</th>\n",
       "      <th>total_return</th>\n",
       "      <th>N</th>\n",
       "    </tr>\n",
       "  </thead>\n",
       "  <tbody>\n",
       "    <tr>\n",
       "      <th>0</th>\n",
       "      <td>(20, 10, False)</td>\n",
       "      <td>12820.0</td>\n",
       "      <td>29855</td>\n",
       "    </tr>\n",
       "    <tr>\n",
       "      <th>1</th>\n",
       "      <td>(18, 3, False)</td>\n",
       "      <td>-3836.0</td>\n",
       "      <td>5469</td>\n",
       "    </tr>\n",
       "    <tr>\n",
       "      <th>2</th>\n",
       "      <td>(13, 10, False)</td>\n",
       "      <td>-11215.0</td>\n",
       "      <td>18792</td>\n",
       "    </tr>\n",
       "    <tr>\n",
       "      <th>3</th>\n",
       "      <td>(18, 10, False)</td>\n",
       "      <td>-15912.0</td>\n",
       "      <td>21844</td>\n",
       "    </tr>\n",
       "    <tr>\n",
       "      <th>4</th>\n",
       "      <td>(14, 10, False)</td>\n",
       "      <td>-12302.0</td>\n",
       "      <td>19378</td>\n",
       "    </tr>\n",
       "    <tr>\n",
       "      <th>5</th>\n",
       "      <td>(19, 10, False)</td>\n",
       "      <td>-16626.0</td>\n",
       "      <td>22223</td>\n",
       "    </tr>\n",
       "    <tr>\n",
       "      <th>6</th>\n",
       "      <td>(21, 10, True)</td>\n",
       "      <td>8356.0</td>\n",
       "      <td>9361</td>\n",
       "    </tr>\n",
       "    <tr>\n",
       "      <th>7</th>\n",
       "      <td>(7, 2, False)</td>\n",
       "      <td>-554.0</td>\n",
       "      <td>974</td>\n",
       "    </tr>\n",
       "    <tr>\n",
       "      <th>8</th>\n",
       "      <td>(18, 2, True)</td>\n",
       "      <td>-310.0</td>\n",
       "      <td>762</td>\n",
       "    </tr>\n",
       "    <tr>\n",
       "      <th>9</th>\n",
       "      <td>(16, 2, False)</td>\n",
       "      <td>-3368.0</td>\n",
       "      <td>5106</td>\n",
       "    </tr>\n",
       "  </tbody>\n",
       "</table>\n",
       "</div>"
      ],
      "text/plain": [
       "             State  total_return      N\n",
       "0  (20, 10, False)       12820.0  29855\n",
       "1   (18, 3, False)       -3836.0   5469\n",
       "2  (13, 10, False)      -11215.0  18792\n",
       "3  (18, 10, False)      -15912.0  21844\n",
       "4  (14, 10, False)      -12302.0  19378\n",
       "5  (19, 10, False)      -16626.0  22223\n",
       "6   (21, 10, True)        8356.0   9361\n",
       "7    (7, 2, False)        -554.0    974\n",
       "8    (18, 2, True)        -310.0    762\n",
       "9   (16, 2, False)       -3368.0   5106"
      ]
     },
     "execution_count": 24,
     "metadata": {},
     "output_type": "execute_result"
    }
   ],
   "source": [
    "total_return=defaultdict(float)\n",
    "N=defaultdict(int)\n",
    "num_iterations=500000\n",
    "for i in range(num_iterations):\n",
    "    episode=generate_episode(policy)\n",
    "    states,actions,rewards=zip(*episode)\n",
    "    \n",
    "    for t,state in enumerate (states):\n",
    "        R=(sum(rewards[t:]))\n",
    "        total_return[state]=total_return[state]+R\n",
    "        N[state]=N[state]+1\n",
    "        \n",
    "#Convert the total_returns dictionary into a data frame:   \n",
    "total_return=pd.DataFrame(total_return.items(),columns=['State','total_return'])\n",
    "N=pd.DataFrame(N.items(),columns=['State','N'])\n",
    "df=pd.merge(total_return,N,on=\"State\")\n",
    "df.head(10)"
   ]
  },
  {
   "cell_type": "code",
   "execution_count": 25,
   "metadata": {},
   "outputs": [],
   "source": [
    "df['value']=df['total_return']/df['N']"
   ]
  },
  {
   "cell_type": "code",
   "execution_count": 26,
   "metadata": {},
   "outputs": [
    {
     "data": {
      "text/html": [
       "<div>\n",
       "<style scoped>\n",
       "    .dataframe tbody tr th:only-of-type {\n",
       "        vertical-align: middle;\n",
       "    }\n",
       "\n",
       "    .dataframe tbody tr th {\n",
       "        vertical-align: top;\n",
       "    }\n",
       "\n",
       "    .dataframe thead th {\n",
       "        text-align: right;\n",
       "    }\n",
       "</style>\n",
       "<table border=\"1\" class=\"dataframe\">\n",
       "  <thead>\n",
       "    <tr style=\"text-align: right;\">\n",
       "      <th></th>\n",
       "      <th>State</th>\n",
       "      <th>total_return</th>\n",
       "      <th>N</th>\n",
       "      <th>value</th>\n",
       "    </tr>\n",
       "  </thead>\n",
       "  <tbody>\n",
       "    <tr>\n",
       "      <th>0</th>\n",
       "      <td>(20, 10, False)</td>\n",
       "      <td>12820.0</td>\n",
       "      <td>29855</td>\n",
       "      <td>0.429409</td>\n",
       "    </tr>\n",
       "    <tr>\n",
       "      <th>1</th>\n",
       "      <td>(18, 3, False)</td>\n",
       "      <td>-3836.0</td>\n",
       "      <td>5469</td>\n",
       "      <td>-0.701408</td>\n",
       "    </tr>\n",
       "    <tr>\n",
       "      <th>2</th>\n",
       "      <td>(13, 10, False)</td>\n",
       "      <td>-11215.0</td>\n",
       "      <td>18792</td>\n",
       "      <td>-0.596797</td>\n",
       "    </tr>\n",
       "    <tr>\n",
       "      <th>3</th>\n",
       "      <td>(18, 10, False)</td>\n",
       "      <td>-15912.0</td>\n",
       "      <td>21844</td>\n",
       "      <td>-0.728438</td>\n",
       "    </tr>\n",
       "    <tr>\n",
       "      <th>4</th>\n",
       "      <td>(14, 10, False)</td>\n",
       "      <td>-12302.0</td>\n",
       "      <td>19378</td>\n",
       "      <td>-0.634844</td>\n",
       "    </tr>\n",
       "    <tr>\n",
       "      <th>5</th>\n",
       "      <td>(19, 10, False)</td>\n",
       "      <td>-16626.0</td>\n",
       "      <td>22223</td>\n",
       "      <td>-0.748144</td>\n",
       "    </tr>\n",
       "    <tr>\n",
       "      <th>6</th>\n",
       "      <td>(21, 10, True)</td>\n",
       "      <td>8356.0</td>\n",
       "      <td>9361</td>\n",
       "      <td>0.892640</td>\n",
       "    </tr>\n",
       "    <tr>\n",
       "      <th>7</th>\n",
       "      <td>(7, 2, False)</td>\n",
       "      <td>-554.0</td>\n",
       "      <td>974</td>\n",
       "      <td>-0.568789</td>\n",
       "    </tr>\n",
       "    <tr>\n",
       "      <th>8</th>\n",
       "      <td>(18, 2, True)</td>\n",
       "      <td>-310.0</td>\n",
       "      <td>762</td>\n",
       "      <td>-0.406824</td>\n",
       "    </tr>\n",
       "    <tr>\n",
       "      <th>9</th>\n",
       "      <td>(16, 2, False)</td>\n",
       "      <td>-3368.0</td>\n",
       "      <td>5106</td>\n",
       "      <td>-0.659616</td>\n",
       "    </tr>\n",
       "  </tbody>\n",
       "</table>\n",
       "</div>"
      ],
      "text/plain": [
       "             State  total_return      N     value\n",
       "0  (20, 10, False)       12820.0  29855  0.429409\n",
       "1   (18, 3, False)       -3836.0   5469 -0.701408\n",
       "2  (13, 10, False)      -11215.0  18792 -0.596797\n",
       "3  (18, 10, False)      -15912.0  21844 -0.728438\n",
       "4  (14, 10, False)      -12302.0  19378 -0.634844\n",
       "5  (19, 10, False)      -16626.0  22223 -0.748144\n",
       "6   (21, 10, True)        8356.0   9361  0.892640\n",
       "7    (7, 2, False)        -554.0    974 -0.568789\n",
       "8    (18, 2, True)        -310.0    762 -0.406824\n",
       "9   (16, 2, False)       -3368.0   5106 -0.659616"
      ]
     },
     "execution_count": 26,
     "metadata": {},
     "output_type": "execute_result"
    }
   ],
   "source": [
    "df.head(10)"
   ]
  },
  {
   "cell_type": "code",
   "execution_count": 28,
   "metadata": {},
   "outputs": [
    {
     "data": {
      "text/plain": [
       "array([0.9340515])"
      ]
     },
     "execution_count": 28,
     "metadata": {},
     "output_type": "execute_result"
    }
   ],
   "source": [
    "df[df['State']==(21,9,False)]['value'].values"
   ]
  },
  {
   "cell_type": "code",
   "execution_count": 29,
   "metadata": {},
   "outputs": [
    {
     "data": {
      "text/plain": [
       "array([-0.40646651])"
      ]
     },
     "execution_count": 29,
     "metadata": {},
     "output_type": "execute_result"
    }
   ],
   "source": [
    "df[df['State']==(5,8,False)]['value'].values"
   ]
  },
  {
   "cell_type": "code",
   "execution_count": null,
   "metadata": {},
   "outputs": [],
   "source": []
  }
 ],
 "metadata": {
  "kernelspec": {
   "display_name": "Python 3",
   "language": "python",
   "name": "python3"
  },
  "language_info": {
   "codemirror_mode": {
    "name": "ipython",
    "version": 3
   },
   "file_extension": ".py",
   "mimetype": "text/x-python",
   "name": "python",
   "nbconvert_exporter": "python",
   "pygments_lexer": "ipython3",
   "version": "3.7.10"
  }
 },
 "nbformat": 4,
 "nbformat_minor": 4
}
