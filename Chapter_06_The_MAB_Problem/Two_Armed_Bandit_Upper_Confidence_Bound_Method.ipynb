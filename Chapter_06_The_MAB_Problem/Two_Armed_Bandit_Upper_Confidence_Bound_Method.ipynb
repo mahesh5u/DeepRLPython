{
 "cells": [
  {
   "cell_type": "code",
   "execution_count": 1,
   "metadata": {},
   "outputs": [],
   "source": [
    "import gym\n",
    "import gym_bandits\n",
    "import numpy as np"
   ]
  },
  {
   "cell_type": "code",
   "execution_count": 2,
   "metadata": {},
   "outputs": [],
   "source": [
    "env=gym.make(\"BanditTwoArmedHighLowFixed-v0\")"
   ]
  },
  {
   "cell_type": "code",
   "execution_count": 3,
   "metadata": {},
   "outputs": [],
   "source": [
    "count=np.zeros(2)"
   ]
  },
  {
   "cell_type": "code",
   "execution_count": 4,
   "metadata": {},
   "outputs": [],
   "source": [
    "sum_rewards=np.zeros(2)"
   ]
  },
  {
   "cell_type": "code",
   "execution_count": 5,
   "metadata": {},
   "outputs": [],
   "source": [
    "Q=np.zeros(2)"
   ]
  },
  {
   "cell_type": "code",
   "execution_count": 6,
   "metadata": {},
   "outputs": [],
   "source": [
    "num_rounds=100"
   ]
  },
  {
   "cell_type": "code",
   "execution_count": 7,
   "metadata": {},
   "outputs": [],
   "source": [
    "def UCB(i):\n",
    "    ucb=np.zeros(2)\n",
    "    if i<2:\n",
    "        return i\n",
    "    else:\n",
    "        for arm in range(2):\n",
    "            ucb[arm]=Q[arm]+np.sqrt((2*np.log(sum(count)))/count[arm])\n",
    "        return np.argmax(ucb)"
   ]
  },
  {
   "cell_type": "code",
   "execution_count": 8,
   "metadata": {},
   "outputs": [
    {
     "name": "stdout",
     "output_type": "stream",
     "text": [
      "The optimal arm is Arm 1\n"
     ]
    }
   ],
   "source": [
    "for i in range(num_rounds):\n",
    "    arm=UCB(i)\n",
    "    next_state,reward,done,info=env.step(arm)\n",
    "    count[arm]+=1\n",
    "    sum_rewards[arm]+=reward\n",
    "    Q[arm]=sum_rewards[arm]/count[arm]\n",
    "\n",
    "print(\"The optimal arm is Arm {}\".format(np.argmax(Q)+1))\n",
    "    "
   ]
  },
  {
   "cell_type": "code",
   "execution_count": 9,
   "metadata": {},
   "outputs": [
    {
     "data": {
      "text/plain": [
       "array([0.73170732, 0.33333333])"
      ]
     },
     "execution_count": 9,
     "metadata": {},
     "output_type": "execute_result"
    }
   ],
   "source": [
    "Q"
   ]
  }
 ],
 "metadata": {
  "kernelspec": {
   "display_name": "Python 3",
   "language": "python",
   "name": "python3"
  },
  "language_info": {
   "codemirror_mode": {
    "name": "ipython",
    "version": 3
   },
   "file_extension": ".py",
   "mimetype": "text/x-python",
   "name": "python",
   "nbconvert_exporter": "python",
   "pygments_lexer": "ipython3",
   "version": "3.7.10"
  }
 },
 "nbformat": 4,
 "nbformat_minor": 4
}
