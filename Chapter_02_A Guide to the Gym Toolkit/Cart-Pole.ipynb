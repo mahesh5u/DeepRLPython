{
 "cells": [
  {
   "cell_type": "code",
   "execution_count": 1,
   "metadata": {},
   "outputs": [],
   "source": [
    "import gym"
   ]
  },
  {
   "cell_type": "code",
   "execution_count": 5,
   "metadata": {},
   "outputs": [],
   "source": [
    "env=gym.make(\"CartPole-v0\")"
   ]
  },
  {
   "cell_type": "code",
   "execution_count": 8,
   "metadata": {},
   "outputs": [
    {
     "data": {
      "text/plain": [
       "Box(-3.4028234663852886e+38, 3.4028234663852886e+38, (4,), float32)"
      ]
     },
     "execution_count": 8,
     "metadata": {},
     "output_type": "execute_result"
    }
   ],
   "source": [
    "env.observation_space"
   ]
  },
  {
   "cell_type": "code",
   "execution_count": 15,
   "metadata": {},
   "outputs": [],
   "source": [
    "env.render()"
   ]
  },
  {
   "cell_type": "code",
   "execution_count": 14,
   "metadata": {},
   "outputs": [],
   "source": [
    "env.close()"
   ]
  },
  {
   "cell_type": "code",
   "execution_count": 17,
   "metadata": {},
   "outputs": [
    {
     "data": {
      "text/plain": [
       "array([ 0.02180325, -0.04401434, -0.04422744, -0.01448239])"
      ]
     },
     "execution_count": 17,
     "metadata": {},
     "output_type": "execute_result"
    }
   ],
   "source": [
    "env.reset()"
   ]
  },
  {
   "cell_type": "code",
   "execution_count": 18,
   "metadata": {},
   "outputs": [
    {
     "name": "stdout",
     "output_type": "stream",
     "text": [
      "[4.8000002e+00 3.4028235e+38 4.1887903e-01 3.4028235e+38]\n"
     ]
    }
   ],
   "source": [
    "print(env.observation_space.high)"
   ]
  },
  {
   "cell_type": "code",
   "execution_count": 21,
   "metadata": {},
   "outputs": [
    {
     "name": "stdout",
     "output_type": "stream",
     "text": [
      "[-4.8000002e+00 -3.4028235e+38 -4.1887903e-01 -3.4028235e+38]\n"
     ]
    }
   ],
   "source": [
    "print(env.observation_space.low)"
   ]
  },
  {
   "cell_type": "code",
   "execution_count": 22,
   "metadata": {},
   "outputs": [
    {
     "data": {
      "text/plain": [
       "Discrete(2)"
      ]
     },
     "execution_count": 22,
     "metadata": {},
     "output_type": "execute_result"
    }
   ],
   "source": [
    "env.action_space"
   ]
  },
  {
   "cell_type": "code",
   "execution_count": 29,
   "metadata": {},
   "outputs": [
    {
     "name": "stdout",
     "output_type": "stream",
     "text": [
      "Episode:1,Return:16.0\n",
      "Episode:2,Return:17.0\n",
      "Episode:3,Return:12.0\n",
      "Episode:4,Return:31.0\n",
      "Episode:5,Return:23.0\n",
      "Episode:6,Return:35.0\n",
      "Episode:8,Return:20.0\n",
      "Episode:9,Return:27.0\n",
      "Episode:10,Return:10.0\n",
      "Episode:11,Return:13.0\n",
      "Episode:12,Return:15.0\n",
      "Episode:13,Return:20.0\n",
      "Episode:14,Return:11.0\n",
      "Episode:15,Return:30.0\n",
      "Episode:16,Return:16.0\n",
      "Episode:17,Return:17.0\n",
      "Episode:18,Return:18.0\n",
      "Episode:19,Return:14.0\n",
      "Episode:20,Return:14.0\n",
      "Episode:21,Return:35.0\n",
      "Episode:22,Return:26.0\n",
      "Episode:23,Return:38.0\n",
      "Episode:24,Return:14.0\n",
      "Episode:25,Return:14.0\n",
      "Episode:26,Return:29.0\n",
      "Episode:27,Return:34.0\n",
      "Episode:28,Return:18.0\n",
      "Episode:29,Return:26.0\n",
      "Episode:30,Return:19.0\n",
      "Episode:31,Return:24.0\n",
      "Episode:32,Return:25.0\n",
      "Episode:33,Return:10.0\n",
      "Episode:34,Return:18.0\n",
      "Episode:35,Return:39.0\n",
      "Episode:38,Return:19.0\n",
      "Episode:39,Return:35.0\n",
      "Episode:40,Return:19.0\n",
      "Episode:41,Return:32.0\n",
      "Episode:42,Return:18.0\n",
      "Episode:44,Return:19.0\n",
      "Episode:45,Return:40.0\n",
      "Episode:46,Return:43.0\n",
      "Episode:47,Return:19.0\n",
      "Episode:48,Return:24.0\n",
      "Episode:49,Return:47.0\n",
      "Episode:50,Return:11.0\n",
      "Episode:51,Return:26.0\n",
      "Episode:52,Return:24.0\n",
      "Episode:53,Return:19.0\n",
      "Episode:54,Return:12.0\n",
      "Episode:55,Return:17.0\n",
      "Episode:56,Return:9.0\n",
      "Episode:57,Return:22.0\n",
      "Episode:58,Return:19.0\n",
      "Episode:59,Return:37.0\n",
      "Episode:60,Return:14.0\n",
      "Episode:61,Return:13.0\n",
      "Episode:62,Return:26.0\n",
      "Episode:63,Return:11.0\n",
      "Episode:64,Return:31.0\n",
      "Episode:65,Return:34.0\n",
      "Episode:66,Return:18.0\n",
      "Episode:67,Return:36.0\n",
      "Episode:68,Return:11.0\n",
      "Episode:69,Return:24.0\n",
      "Episode:70,Return:21.0\n",
      "Episode:71,Return:10.0\n",
      "Episode:72,Return:22.0\n",
      "Episode:73,Return:16.0\n",
      "Episode:74,Return:11.0\n",
      "Episode:75,Return:41.0\n",
      "Episode:76,Return:13.0\n",
      "Episode:77,Return:30.0\n",
      "Episode:78,Return:20.0\n",
      "Episode:80,Return:13.0\n",
      "Episode:81,Return:12.0\n",
      "Episode:82,Return:23.0\n",
      "Episode:83,Return:31.0\n",
      "Episode:84,Return:24.0\n",
      "Episode:85,Return:13.0\n",
      "Episode:86,Return:20.0\n",
      "Episode:87,Return:22.0\n",
      "Episode:88,Return:17.0\n",
      "Episode:89,Return:19.0\n",
      "Episode:90,Return:23.0\n",
      "Episode:91,Return:27.0\n",
      "Episode:93,Return:11.0\n",
      "Episode:95,Return:15.0\n",
      "Episode:96,Return:14.0\n",
      "Episode:97,Return:32.0\n",
      "Episode:98,Return:12.0\n",
      "Episode:99,Return:37.0\n",
      "Episode:100,Return:22.0\n"
     ]
    }
   ],
   "source": [
    "#Random Policy\n",
    "num_episodes=100\n",
    "num_timesteps=50\n",
    "\n",
    "for i in range(num_episodes):\n",
    "    Return=0\n",
    "    state=env.reset()\n",
    "    for t in range(num_timesteps):\n",
    "        env.render()\n",
    "        random_action=env.action_space.sample()\n",
    "        (next_state,reward,done,info)=env.step(random_action)\n",
    "        Return=Return+reward\n",
    "        if done:\n",
    "            print(\"Episode:{},Return:{}\".format((i+1),Return))\n",
    "            break\n",
    "env.close()            \n",
    "        "
   ]
  },
  {
   "cell_type": "code",
   "execution_count": null,
   "metadata": {},
   "outputs": [],
   "source": []
  }
 ],
 "metadata": {
  "kernelspec": {
   "display_name": "Python 3",
   "language": "python",
   "name": "python3"
  },
  "language_info": {
   "codemirror_mode": {
    "name": "ipython",
    "version": 3
   },
   "file_extension": ".py",
   "mimetype": "text/x-python",
   "name": "python",
   "nbconvert_exporter": "python",
   "pygments_lexer": "ipython3",
   "version": "3.7.10"
  }
 },
 "nbformat": 4,
 "nbformat_minor": 4
}
