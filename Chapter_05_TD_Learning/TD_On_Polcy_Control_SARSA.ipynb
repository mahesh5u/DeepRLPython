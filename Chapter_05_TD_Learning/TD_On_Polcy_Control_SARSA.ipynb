{
 "cells": [
  {
   "cell_type": "code",
   "execution_count": 43,
   "metadata": {},
   "outputs": [],
   "source": [
    "import gym\n",
    "import pandas as pd\n",
    "import numpy as np\n",
    "import random"
   ]
  },
  {
   "cell_type": "code",
   "execution_count": 4,
   "metadata": {},
   "outputs": [],
   "source": [
    "env=gym.make('FrozenLake-v0')"
   ]
  },
  {
   "cell_type": "code",
   "execution_count": 2,
   "metadata": {},
   "outputs": [],
   "source": [
    "alpha=0.1   #Learning Rate\n",
    "gamma=0.90  #Discount factor\n",
    "epsilon=0.8 #Epsilon for epsilon greedy policy\n",
    "num_episodes=50000\n",
    "num_timesteps=1000"
   ]
  },
  {
   "cell_type": "code",
   "execution_count": 22,
   "metadata": {},
   "outputs": [],
   "source": [
    "#Initialize Q value of each (State,Action) pair to zero\n",
    "Q={}\n",
    "for s in range(env.observation_space.n):\n",
    "    for a in range(env.action_space.n):\n",
    "        Q[(s,a)]=0.0"
   ]
  },
  {
   "cell_type": "code",
   "execution_count": 23,
   "metadata": {},
   "outputs": [
    {
     "data": {
      "text/plain": [
       "{(0, 0): 0.0,\n",
       " (0, 1): 0.0,\n",
       " (0, 2): 0.0,\n",
       " (0, 3): 0.0,\n",
       " (1, 0): 0.0,\n",
       " (1, 1): 0.0,\n",
       " (1, 2): 0.0,\n",
       " (1, 3): 0.0,\n",
       " (2, 0): 0.0,\n",
       " (2, 1): 0.0,\n",
       " (2, 2): 0.0,\n",
       " (2, 3): 0.0,\n",
       " (3, 0): 0.0,\n",
       " (3, 1): 0.0,\n",
       " (3, 2): 0.0,\n",
       " (3, 3): 0.0,\n",
       " (4, 0): 0.0,\n",
       " (4, 1): 0.0,\n",
       " (4, 2): 0.0,\n",
       " (4, 3): 0.0,\n",
       " (5, 0): 0.0,\n",
       " (5, 1): 0.0,\n",
       " (5, 2): 0.0,\n",
       " (5, 3): 0.0,\n",
       " (6, 0): 0.0,\n",
       " (6, 1): 0.0,\n",
       " (6, 2): 0.0,\n",
       " (6, 3): 0.0,\n",
       " (7, 0): 0.0,\n",
       " (7, 1): 0.0,\n",
       " (7, 2): 0.0,\n",
       " (7, 3): 0.0,\n",
       " (8, 0): 0.0,\n",
       " (8, 1): 0.0,\n",
       " (8, 2): 0.0,\n",
       " (8, 3): 0.0,\n",
       " (9, 0): 0.0,\n",
       " (9, 1): 0.0,\n",
       " (9, 2): 0.0,\n",
       " (9, 3): 0.0,\n",
       " (10, 0): 0.0,\n",
       " (10, 1): 0.0,\n",
       " (10, 2): 0.0,\n",
       " (10, 3): 0.0,\n",
       " (11, 0): 0.0,\n",
       " (11, 1): 0.0,\n",
       " (11, 2): 0.0,\n",
       " (11, 3): 0.0,\n",
       " (12, 0): 0.0,\n",
       " (12, 1): 0.0,\n",
       " (12, 2): 0.0,\n",
       " (12, 3): 0.0,\n",
       " (13, 0): 0.0,\n",
       " (13, 1): 0.0,\n",
       " (13, 2): 0.0,\n",
       " (13, 3): 0.0,\n",
       " (14, 0): 0.0,\n",
       " (14, 1): 0.0,\n",
       " (14, 2): 0.0,\n",
       " (14, 3): 0.0,\n",
       " (15, 0): 0.0,\n",
       " (15, 1): 0.0,\n",
       " (15, 2): 0.0,\n",
       " (15, 3): 0.0}"
      ]
     },
     "execution_count": 23,
     "metadata": {},
     "output_type": "execute_result"
    }
   ],
   "source": [
    "Q"
   ]
  },
  {
   "cell_type": "code",
   "execution_count": 47,
   "metadata": {},
   "outputs": [],
   "source": [
    "#Epsioln-Greedy Policy\n",
    "def epsilon_greedy_policy(state,epsioln):\n",
    "    if random.uniform(0,1)<epsilon:\n",
    "        action=env.action_space.sample()\n",
    "    else:\n",
    "        action= max(list(range(env.action_space.n)),key=lambda x: Q[(state,x)])\n",
    "    return action    "
   ]
  },
  {
   "cell_type": "code",
   "execution_count": 51,
   "metadata": {},
   "outputs": [],
   "source": [
    "for i in range(num_episodes):\n",
    "    s=env.reset()\n",
    "    a=epsilon_greedy_policy(s,epsilon)\n",
    "    \n",
    "    for t in range(num_timesteps):\n",
    "        s_,r,done,_= env.step(a)\n",
    "        a_=epsilon_greedy_policy(s_,epsilon)\n",
    "        Q[(s,a)]+= alpha*(r+gamma*Q[(s_,a_)] -  Q[(s,a)])\n",
    "        s=s_\n",
    "        a=a_\n",
    "        if done:\n",
    "            break\n",
    "    "
   ]
  },
  {
   "cell_type": "code",
   "execution_count": 52,
   "metadata": {},
   "outputs": [
    {
     "data": {
      "text/plain": [
       "{(0, 0): 0.006271771538057311,\n",
       " (0, 1): 0.007976108055880771,\n",
       " (0, 2): 0.006059367870765122,\n",
       " (0, 3): 0.00558914391094996,\n",
       " (1, 0): 0.0035333756121847153,\n",
       " (1, 1): 0.004688731198628206,\n",
       " (1, 2): 0.006019845440653443,\n",
       " (1, 3): 0.008687361161607622,\n",
       " (2, 0): 0.027346758589945834,\n",
       " (2, 1): 0.014620558023014386,\n",
       " (2, 2): 0.02285954200527238,\n",
       " (2, 3): 0.009439801872876016,\n",
       " (3, 0): 0.006010427951897423,\n",
       " (3, 1): 0.0066852764772355145,\n",
       " (3, 2): 0.0030933191336589482,\n",
       " (3, 3): 0.008427330745088018,\n",
       " (4, 0): 0.012054297056210915,\n",
       " (4, 1): 0.010558796499231074,\n",
       " (4, 2): 0.0101862740015476,\n",
       " (4, 3): 0.005995623554817409,\n",
       " (5, 0): 0.0,\n",
       " (5, 1): 0.0,\n",
       " (5, 2): 0.0,\n",
       " (5, 3): 0.0,\n",
       " (6, 0): 0.060666815526178676,\n",
       " (6, 1): 0.06605994389294928,\n",
       " (6, 2): 0.060483875786028186,\n",
       " (6, 3): 0.002060764430303435,\n",
       " (7, 0): 0.0,\n",
       " (7, 1): 0.0,\n",
       " (7, 2): 0.0,\n",
       " (7, 3): 0.0,\n",
       " (8, 0): 0.009469330027012397,\n",
       " (8, 1): 0.024148730249385412,\n",
       " (8, 2): 0.017124311225533796,\n",
       " (8, 3): 0.035509792571824655,\n",
       " (9, 0): 0.03485667276676684,\n",
       " (9, 1): 0.10175255802727676,\n",
       " (9, 2): 0.08629323618062605,\n",
       " (9, 3): 0.05088051392215513,\n",
       " (10, 0): 0.1706149331296804,\n",
       " (10, 1): 0.12414409143674639,\n",
       " (10, 2): 0.12365613178978796,\n",
       " (10, 3): 0.04205571669145075,\n",
       " (11, 0): 0.0,\n",
       " (11, 1): 0.0,\n",
       " (11, 2): 0.0,\n",
       " (11, 3): 0.0,\n",
       " (12, 0): 0.0,\n",
       " (12, 1): 0.0,\n",
       " (12, 2): 0.0,\n",
       " (12, 3): 0.0,\n",
       " (13, 0): 0.046270574365380346,\n",
       " (13, 1): 0.12188652966456355,\n",
       " (13, 2): 0.155786939511321,\n",
       " (13, 3): 0.12504562851236622,\n",
       " (14, 0): 0.18886843064284245,\n",
       " (14, 1): 0.4381127632480259,\n",
       " (14, 2): 0.4035886491260636,\n",
       " (14, 3): 0.32509420246538595,\n",
       " (15, 0): 0.0,\n",
       " (15, 1): 0.0,\n",
       " (15, 2): 0.0,\n",
       " (15, 3): 0.0}"
      ]
     },
     "execution_count": 52,
     "metadata": {},
     "output_type": "execute_result"
    }
   ],
   "source": [
    "Q"
   ]
  },
  {
   "cell_type": "code",
   "execution_count": 54,
   "metadata": {},
   "outputs": [
    {
     "name": "stdout",
     "output_type": "stream",
     "text": [
      "  (Down)\n",
      "SFFF\n",
      "FHFH\n",
      "FFFH\n",
      "\u001b[41mH\u001b[0mFFG\n"
     ]
    }
   ],
   "source": [
    "env.render()"
   ]
  },
  {
   "cell_type": "code",
   "execution_count": 58,
   "metadata": {},
   "outputs": [],
   "source": [
    "df=pd.DataFrame(Q.items(),columns=['(state,action)','Value'])"
   ]
  },
  {
   "cell_type": "code",
   "execution_count": 152,
   "metadata": {},
   "outputs": [
    {
     "name": "stdout",
     "output_type": "stream",
     "text": [
      "[1, 3, 0, 3, 0, 0, 1, 0, 3, 1, 0, 0, 0, 2, 1, 0]\n"
     ]
    }
   ],
   "source": [
    "optimum_policy=[]\n",
    "for s in range(env.observation_space.n):\n",
    "    optimum_policy.append(max(list(range(env.action_space.n)),key=lambda x: Q[(s,x)]))\n",
    "print(optimum_policy)    "
   ]
  }
 ],
 "metadata": {
  "kernelspec": {
   "display_name": "Python 3",
   "language": "python",
   "name": "python3"
  },
  "language_info": {
   "codemirror_mode": {
    "name": "ipython",
    "version": 3
   },
   "file_extension": ".py",
   "mimetype": "text/x-python",
   "name": "python",
   "nbconvert_exporter": "python",
   "pygments_lexer": "ipython3",
   "version": "3.7.10"
  }
 },
 "nbformat": 4,
 "nbformat_minor": 4
}
