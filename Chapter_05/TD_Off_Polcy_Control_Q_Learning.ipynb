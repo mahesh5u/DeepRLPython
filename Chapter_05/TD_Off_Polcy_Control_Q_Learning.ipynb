{
 "cells": [
  {
   "cell_type": "code",
   "execution_count": 1,
   "metadata": {},
   "outputs": [],
   "source": [
    "import gym\n",
    "import numpy as np\n",
    "import pandas as pd \n",
    "import random"
   ]
  },
  {
   "cell_type": "code",
   "execution_count": 2,
   "metadata": {},
   "outputs": [],
   "source": [
    "env=gym.make('FrozenLake-v0')"
   ]
  },
  {
   "cell_type": "code",
   "execution_count": 3,
   "metadata": {},
   "outputs": [],
   "source": [
    "#Initialize Q values in each state to 0\n",
    "Q={}\n",
    "for s in range(env.observation_space.n):\n",
    "    for a in range(env.action_space.n):\n",
    "        Q[(s,a)]=0.0"
   ]
  },
  {
   "cell_type": "code",
   "execution_count": 4,
   "metadata": {},
   "outputs": [
    {
     "data": {
      "text/plain": [
       "{(0, 0): 0.0,\n",
       " (0, 1): 0.0,\n",
       " (0, 2): 0.0,\n",
       " (0, 3): 0.0,\n",
       " (1, 0): 0.0,\n",
       " (1, 1): 0.0,\n",
       " (1, 2): 0.0,\n",
       " (1, 3): 0.0,\n",
       " (2, 0): 0.0,\n",
       " (2, 1): 0.0,\n",
       " (2, 2): 0.0,\n",
       " (2, 3): 0.0,\n",
       " (3, 0): 0.0,\n",
       " (3, 1): 0.0,\n",
       " (3, 2): 0.0,\n",
       " (3, 3): 0.0,\n",
       " (4, 0): 0.0,\n",
       " (4, 1): 0.0,\n",
       " (4, 2): 0.0,\n",
       " (4, 3): 0.0,\n",
       " (5, 0): 0.0,\n",
       " (5, 1): 0.0,\n",
       " (5, 2): 0.0,\n",
       " (5, 3): 0.0,\n",
       " (6, 0): 0.0,\n",
       " (6, 1): 0.0,\n",
       " (6, 2): 0.0,\n",
       " (6, 3): 0.0,\n",
       " (7, 0): 0.0,\n",
       " (7, 1): 0.0,\n",
       " (7, 2): 0.0,\n",
       " (7, 3): 0.0,\n",
       " (8, 0): 0.0,\n",
       " (8, 1): 0.0,\n",
       " (8, 2): 0.0,\n",
       " (8, 3): 0.0,\n",
       " (9, 0): 0.0,\n",
       " (9, 1): 0.0,\n",
       " (9, 2): 0.0,\n",
       " (9, 3): 0.0,\n",
       " (10, 0): 0.0,\n",
       " (10, 1): 0.0,\n",
       " (10, 2): 0.0,\n",
       " (10, 3): 0.0,\n",
       " (11, 0): 0.0,\n",
       " (11, 1): 0.0,\n",
       " (11, 2): 0.0,\n",
       " (11, 3): 0.0,\n",
       " (12, 0): 0.0,\n",
       " (12, 1): 0.0,\n",
       " (12, 2): 0.0,\n",
       " (12, 3): 0.0,\n",
       " (13, 0): 0.0,\n",
       " (13, 1): 0.0,\n",
       " (13, 2): 0.0,\n",
       " (13, 3): 0.0,\n",
       " (14, 0): 0.0,\n",
       " (14, 1): 0.0,\n",
       " (14, 2): 0.0,\n",
       " (14, 3): 0.0,\n",
       " (15, 0): 0.0,\n",
       " (15, 1): 0.0,\n",
       " (15, 2): 0.0,\n",
       " (15, 3): 0.0}"
      ]
     },
     "execution_count": 4,
     "metadata": {},
     "output_type": "execute_result"
    }
   ],
   "source": [
    "Q"
   ]
  },
  {
   "cell_type": "code",
   "execution_count": 5,
   "metadata": {},
   "outputs": [],
   "source": [
    "#initialize parameters\n",
    "alpha=0.85 #Learning rate\n",
    "gamma=0.90 #Discount factor\n",
    "num_iterations=50000 # num episodes\n",
    "num_timesteps=1000 # num of timesteps \n",
    "epsilon=0.8 # Epsilon for epsilon-greedy policy"
   ]
  },
  {
   "cell_type": "code",
   "execution_count": 6,
   "metadata": {},
   "outputs": [],
   "source": [
    "#if random number from uniform distribution < episoln perform ranom action \n",
    "#else perform best action that has max Q value\n",
    "\n",
    "def episoln_greedy_policy(state,epsilon):\n",
    "    if random.uniform(0,1)<epsilon:\n",
    "        return env.action_space.sample()\n",
    "    else:\n",
    "        return max(list(range(env.action_space.n)),key=lambda x: Q[(state,x)])"
   ]
  },
  {
   "cell_type": "code",
   "execution_count": 7,
   "metadata": {},
   "outputs": [],
   "source": [
    "for i in range (num_iterations):\n",
    "    s=env.reset()\n",
    "    for t in range (num_timesteps):\n",
    "        a=episoln_greedy_policy(s,epsilon)\n",
    "        s_,r,done,_=env.step(a)\n",
    "        a_= np.argmax([Q[(s_,a)] for a in range(env.action_space.n)])\n",
    "        Q[(s,a)]=Q[(s,a)]+alpha * (r+gamma*Q[(s_,a_)] -Q[(s,a)])\n",
    "        s=s_\n",
    "        if done:\n",
    "            break\n",
    "        "
   ]
  },
  {
   "cell_type": "code",
   "execution_count": 8,
   "metadata": {},
   "outputs": [
    {
     "data": {
      "text/plain": [
       "{(0, 0): 0.36211266979660717,\n",
       " (0, 1): 0.3113349548783798,\n",
       " (0, 2): 0.3323506283036106,\n",
       " (0, 3): 0.3746105343200709,\n",
       " (1, 0): 0.005743157988508336,\n",
       " (1, 1): 0.3083862843655314,\n",
       " (1, 2): 0.42105606685121505,\n",
       " (1, 3): 0.3833838937816416,\n",
       " (2, 0): 0.5447885058539083,\n",
       " (2, 1): 0.41882987295220486,\n",
       " (2, 2): 0.33234585132794936,\n",
       " (2, 3): 0.37591561009869656,\n",
       " (3, 0): 0.06601261789060736,\n",
       " (3, 1): 0.4260630471999295,\n",
       " (3, 2): 0.3582994552058592,\n",
       " (3, 3): 0.3223707512569603,\n",
       " (4, 0): 0.3128241900779784,\n",
       " (4, 1): 0.00731557180732223,\n",
       " (4, 2): 0.3278054077319462,\n",
       " (4, 3): 0.2821868671291988,\n",
       " (5, 0): 0.0,\n",
       " (5, 1): 0.0,\n",
       " (5, 2): 0.0,\n",
       " (5, 3): 0.0,\n",
       " (6, 0): 0.509086791160986,\n",
       " (6, 1): 0.5212674164451563,\n",
       " (6, 2): 0.6052368596338921,\n",
       " (6, 3): 0.3890915943552944,\n",
       " (7, 0): 0.0,\n",
       " (7, 1): 0.0,\n",
       " (7, 2): 0.0,\n",
       " (7, 3): 0.0,\n",
       " (8, 0): 0.32174305825720695,\n",
       " (8, 1): 0.4103118948177923,\n",
       " (8, 2): 0.4150882460852748,\n",
       " (8, 3): 0.39962188949841976,\n",
       " (9, 0): 0.6839333977030329,\n",
       " (9, 1): 0.4201329102793762,\n",
       " (9, 2): 0.6546569668065463,\n",
       " (9, 3): 0.04398203813783452,\n",
       " (10, 0): 0.8651801220380853,\n",
       " (10, 1): 0.06408566668403964,\n",
       " (10, 2): 0.5338752056279986,\n",
       " (10, 3): 0.4724023035537055,\n",
       " (11, 0): 0.0,\n",
       " (11, 1): 0.0,\n",
       " (11, 2): 0.0,\n",
       " (11, 3): 0.0,\n",
       " (12, 0): 0.0,\n",
       " (12, 1): 0.0,\n",
       " (12, 2): 0.0,\n",
       " (12, 3): 0.0,\n",
       " (13, 0): 0.40302241998022564,\n",
       " (13, 1): 0.8525430687746473,\n",
       " (13, 2): 0.7634717181881522,\n",
       " (13, 3): 0.05901685967073883,\n",
       " (14, 0): 0.7284652605619888,\n",
       " (14, 1): 0.9936541386791413,\n",
       " (14, 2): 0.9672592313117534,\n",
       " (14, 3): 0.6619777877155751,\n",
       " (15, 0): 0.0,\n",
       " (15, 1): 0.0,\n",
       " (15, 2): 0.0,\n",
       " (15, 3): 0.0}"
      ]
     },
     "execution_count": 8,
     "metadata": {},
     "output_type": "execute_result"
    }
   ],
   "source": [
    "Q"
   ]
  },
  {
   "cell_type": "code",
   "execution_count": 9,
   "metadata": {},
   "outputs": [
    {
     "name": "stdout",
     "output_type": "stream",
     "text": [
      "[3, 2, 0, 1, 2, 0, 2, 0, 2, 0, 0, 0, 0, 1, 1, 0]\n"
     ]
    }
   ],
   "source": [
    "optimum_policy=[]\n",
    "for s in range(env.observation_space.n):\n",
    "    optimum_policy.append(max(list(range(env.action_space.n)), key=lambda x: Q[(s,x)]))\n",
    "print(optimum_policy)    "
   ]
  }
 ],
 "metadata": {
  "kernelspec": {
   "display_name": "Python 3",
   "language": "python",
   "name": "python3"
  },
  "language_info": {
   "codemirror_mode": {
    "name": "ipython",
    "version": 3
   },
   "file_extension": ".py",
   "mimetype": "text/x-python",
   "name": "python",
   "nbconvert_exporter": "python",
   "pygments_lexer": "ipython3",
   "version": "3.7.10"
  }
 },
 "nbformat": 4,
 "nbformat_minor": 4
}
